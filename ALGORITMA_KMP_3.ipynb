{
  "nbformat": 4,
  "nbformat_minor": 0,
  "metadata": {
    "colab": {
      "provenance": [],
      "authorship_tag": "ABX9TyPrhkIZ+MGlsHC20DoU/xQu",
      "include_colab_link": true
    },
    "kernelspec": {
      "name": "python3",
      "display_name": "Python 3"
    },
    "language_info": {
      "name": "python"
    }
  },
  "cells": [
    {
      "cell_type": "markdown",
      "metadata": {
        "id": "view-in-github",
        "colab_type": "text"
      },
      "source": [
        "<a href=\"https://colab.research.google.com/github/HumayraFahreri/KompleksitasAlgoritma-HumayraFahreri-2211533019/blob/main/ALGORITMA_KMP_3.ipynb\" target=\"_parent\"><img src=\"https://colab.research.google.com/assets/colab-badge.svg\" alt=\"Open In Colab\"/></a>"
      ]
    },
    {
      "cell_type": "code",
      "execution_count": 1,
      "metadata": {
        "colab": {
          "base_uri": "https://localhost:8080/"
        },
        "id": "uhtj4XckYI_w",
        "outputId": "0b9d71b2-90b3-4d8a-fa9f-7a9e350d9a3c"
      },
      "outputs": [
        {
          "output_type": "stream",
          "name": "stdout",
          "text": [
            "Pola ditemukan pada indeks 11\n"
          ]
        }
      ],
      "source": [
        "def compute_lps(pattern):\n",
        "    m = len(pattern)\n",
        "    lps = [0] * m\n",
        "    j = 0\n",
        "    i = 1\n",
        "\n",
        "    while i < m:\n",
        "        if pattern[i] == pattern[j]:\n",
        "            j += 1\n",
        "            lps[i] = j\n",
        "            i += 1\n",
        "        else:\n",
        "            if j != 0:\n",
        "                j = lps[j - 1]\n",
        "            else:\n",
        "                lps[i] = 0\n",
        "                i += 1\n",
        "\n",
        "    return lps\n",
        "\n",
        "def kmp_search(text, pattern):\n",
        "    m = len(pattern)\n",
        "    n = len(text)\n",
        "    lps = compute_lps(pattern)\n",
        "    i = 0\n",
        "    j = 0\n",
        "\n",
        "    while i < n:\n",
        "        if pattern[j] == text[i]:\n",
        "            i += 1\n",
        "            j += 1\n",
        "\n",
        "        if j == m:\n",
        "            print(f\"Pola ditemukan pada indeks {i - j}\")\n",
        "            j = lps[j - 1]\n",
        "        elif i < n and pattern[j] != text[i]:\n",
        "            if j != 0:\n",
        "                j = lps[j - 1]\n",
        "            else:\n",
        "                i += 1\n",
        "\n",
        "# Contoh penggunaan\n",
        "text = \"STAFF AHLI KEPSEK\"\n",
        "pattern = \"KEPSEK\"\n",
        "kmp_search(text, pattern)\n"
      ]
    }
  ]
}