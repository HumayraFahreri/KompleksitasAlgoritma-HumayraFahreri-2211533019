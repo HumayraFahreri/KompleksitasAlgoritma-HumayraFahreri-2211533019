{
  "nbformat": 4,
  "nbformat_minor": 0,
  "metadata": {
    "colab": {
      "provenance": [],
      "authorship_tag": "ABX9TyPr5pVD09MTWexymnQu+4OI",
      "include_colab_link": true
    },
    "kernelspec": {
      "name": "python3",
      "display_name": "Python 3"
    },
    "language_info": {
      "name": "python"
    }
  },
  "cells": [
    {
      "cell_type": "markdown",
      "metadata": {
        "id": "view-in-github",
        "colab_type": "text"
      },
      "source": [
        "<a href=\"https://colab.research.google.com/github/HumayraFahreri/KompleksitasAlgoritma-HumayraFahreri-2211533019/blob/main/algoritma_kmp_1.ipynb\" target=\"_parent\"><img src=\"https://colab.research.google.com/assets/colab-badge.svg\" alt=\"Open In Colab\"/></a>"
      ]
    },
    {
      "cell_type": "code",
      "execution_count": null,
      "metadata": {
        "colab": {
          "base_uri": "https://localhost:8080/"
        },
        "id": "9bQl1PYF9dlX",
        "outputId": "a329df23-aed4-4ac9-8e5b-6317c70d193c"
      },
      "outputs": [
        {
          "output_type": "stream",
          "name": "stdout",
          "text": [
            "Pola ditemukan pada indeks 9\n"
          ]
        }
      ],
      "source": [
        "def compute_lps(pattern):\n",
        "    m = len(pattern)\n",
        "    lps = [0] * m\n",
        "    j = 0\n",
        "    i = 1\n",
        "\n",
        "    while i < m:\n",
        "        if pattern[i] == pattern[j]:\n",
        "            j += 1\n",
        "            lps[i] = j\n",
        "            i += 1\n",
        "        else:\n",
        "            if j != 0:\n",
        "                j = lps[j - 1]\n",
        "            else:\n",
        "                lps[i] = 0\n",
        "                i += 1\n",
        "\n",
        "    return lps\n",
        "\n",
        "def kmp_search(text, pattern):\n",
        "    m = len(pattern)\n",
        "    n = len(text)\n",
        "    lps = compute_lps(pattern)\n",
        "    i = 0\n",
        "    j = 0\n",
        "\n",
        "    while i < n:\n",
        "        if pattern[j] == text[i]:\n",
        "            i += 1\n",
        "            j += 1\n",
        "\n",
        "        if j == m:\n",
        "            print(f\"Pola ditemukan pada indeks {i - j}\")\n",
        "            j = lps[j - 1]\n",
        "        elif i < n and pattern[j] != text[i]:\n",
        "            if j != 0:\n",
        "                j = lps[j - 1]\n",
        "            else:\n",
        "                i += 1\n",
        "\n",
        "# Contoh penggunaan\n",
        "text = \"SALSABILASASKIA\"\n",
        "pattern = \"SASKIA\"\n",
        "kmp_search(text, pattern)\n"
      ]
    }
  ]
}