{
  "nbformat": 4,
  "nbformat_minor": 0,
  "metadata": {
    "colab": {
      "provenance": [],
      "authorship_tag": "ABX9TyNU2VSLkPHLjxVsEK1hKrc+",
      "include_colab_link": true
    },
    "kernelspec": {
      "name": "python3",
      "display_name": "Python 3"
    },
    "language_info": {
      "name": "python"
    }
  },
  "cells": [
    {
      "cell_type": "markdown",
      "metadata": {
        "id": "view-in-github",
        "colab_type": "text"
      },
      "source": [
        "<a href=\"https://colab.research.google.com/github/HumayraFahreri/KompleksitasAlgoritma-HumayraFahreri-2211533019/blob/main/algoritma_kmp_2.ipynb\" target=\"_parent\"><img src=\"https://colab.research.google.com/assets/colab-badge.svg\" alt=\"Open In Colab\"/></a>"
      ]
    },
    {
      "cell_type": "code",
      "execution_count": 2,
      "metadata": {
        "colab": {
          "base_uri": "https://localhost:8080/"
        },
        "id": "6uM2DrFMC3KP",
        "outputId": "27266495-1919-44ea-bcd8-18d7fe866dd0"
      },
      "outputs": [
        {
          "output_type": "stream",
          "name": "stdout",
          "text": [
            "Pola ditemukan pada indeks 10\n"
          ]
        }
      ],
      "source": [
        "def compute_lps(pattern):\n",
        "    m = len(pattern)\n",
        "    lps = [0] * m  # Inisialisasi array LPS dengan panjang pattern, awalnya diisi dengan nilai 0\n",
        "    length = 0  # Panjang prefix yang sedang dibandingkan\n",
        "    i = 1\n",
        "\n",
        "    while i < m:\n",
        "        if pattern[i] == pattern[length]:\n",
        "            length += 1\n",
        "            lps[i] = length\n",
        "            i += 1\n",
        "        else:\n",
        "            if length != 0:\n",
        "                length = lps[length - 1]\n",
        "            else:\n",
        "                lps[i] = 0\n",
        "                i += 1\n",
        "\n",
        "    return lps\n",
        "\n",
        "\n",
        "def kmp_search(text, pattern):\n",
        "    n = len(text)\n",
        "    m = len(pattern)\n",
        "    lps = compute_lps(pattern)\n",
        "    i = 0  # Indeks untuk teks\n",
        "    j = 0  # Indeks untuk pola\n",
        "\n",
        "    while i < n:\n",
        "        if pattern[j] == text[i]:\n",
        "            i += 1\n",
        "            j += 1\n",
        "\n",
        "        if j == m:\n",
        "            print(f\"Pola ditemukan pada indeks {i - j}\")\n",
        "            j = lps[j - 1]\n",
        "        elif i < n and pattern[j] != text[i]:\n",
        "            if j != 0:\n",
        "                j = lps[j - 1]\n",
        "            else:\n",
        "                i += 1\n",
        "\n",
        "# Contoh penggunaan\n",
        "text = \"ABACAABACCABACABAABB\"\n",
        "pattern = \"ABACAB\"\n",
        "kmp_search(text, pattern)\n"
      ]
    }
  ]
}